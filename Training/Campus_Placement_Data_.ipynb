{
  "cells": [
    {
      "cell_type": "markdown",
      "metadata": {
        "id": "9TXZrey8RujR"
      },
      "source": [
        "#Import Libraries\n"
      ]
    },
    {
      "cell_type": "code",
      "execution_count": 1,
      "metadata": {
        "id": "vYbXH7jijPq1"
      },
      "outputs": [],
      "source": [
        "import numpy as np\n",
        "import pandas as pd\n",
        "import os"
      ]
    },
    {
      "cell_type": "code",
      "execution_count": 2,
      "metadata": {
        "id": "Am4r9rBIkMzZ"
      },
      "outputs": [],
      "source": [
        "import seaborn as sns\n",
        "import matplotlib.pyplot as plt\n",
        "from sklearn import svm\n",
        "from sklearn.metrics import accuracy_score\n",
        "from sklearn.neighbors import KNeighborsClassifier\n",
        "from sklearn import metrics\n",
        "from sklearn.model_selection import cross_val_score\n",
        "from sklearn import preprocessing\n",
        "from sklearn.model_selection import train_test_split\n",
        "from sklearn.preprocessing import StandardScaler\n",
        "import joblib\n",
        "from sklearn.metrics import accuracy_score\n",
        "import warnings\n",
        "warnings.filterwarnings('ignore')\n",
        "\n"
      ]
    },
    {
      "cell_type": "markdown",
      "metadata": {
        "id": "VIpWPOEvSZCx"
      },
      "source": [
        "## Read Data"
      ]
    },
    {
      "cell_type": "code",
      "execution_count": 3,
      "metadata": {
        "colab": {
          "base_uri": "https://localhost:8080/",
          "height": 206
        },
        "id": "qHXFaXhWogH_",
        "outputId": "a5ced8a0-195c-44dc-c3af-59a4daacc5a3"
      },
      "outputs": [
        {
          "output_type": "execute_result",
          "data": {
            "text/plain": [
              "   Age  Gender                         Stream  Internships  CGPA  Hostel  \\\n",
              "0   22    Male  Electronics And Communication            1     8       1   \n",
              "1   21  Female               Computer Science            0     7       1   \n",
              "2   22  Female         Information Technology            1     6       0   \n",
              "3   21    Male         Information Technology            0     8       0   \n",
              "4   22    Male                     Mechanical            0     8       1   \n",
              "\n",
              "   HistoryOfBacklogs  PlacedOrNot  \n",
              "0                  1            1  \n",
              "1                  1            1  \n",
              "2                  0            1  \n",
              "3                  1            1  \n",
              "4                  0            1  "
            ],
            "text/html": [
              "\n",
              "  <div id=\"df-75d7ff0d-88dd-4e0b-bd51-aad2f5aa8cac\">\n",
              "    <div class=\"colab-df-container\">\n",
              "      <div>\n",
              "<style scoped>\n",
              "    .dataframe tbody tr th:only-of-type {\n",
              "        vertical-align: middle;\n",
              "    }\n",
              "\n",
              "    .dataframe tbody tr th {\n",
              "        vertical-align: top;\n",
              "    }\n",
              "\n",
              "    .dataframe thead th {\n",
              "        text-align: right;\n",
              "    }\n",
              "</style>\n",
              "<table border=\"1\" class=\"dataframe\">\n",
              "  <thead>\n",
              "    <tr style=\"text-align: right;\">\n",
              "      <th></th>\n",
              "      <th>Age</th>\n",
              "      <th>Gender</th>\n",
              "      <th>Stream</th>\n",
              "      <th>Internships</th>\n",
              "      <th>CGPA</th>\n",
              "      <th>Hostel</th>\n",
              "      <th>HistoryOfBacklogs</th>\n",
              "      <th>PlacedOrNot</th>\n",
              "    </tr>\n",
              "  </thead>\n",
              "  <tbody>\n",
              "    <tr>\n",
              "      <th>0</th>\n",
              "      <td>22</td>\n",
              "      <td>Male</td>\n",
              "      <td>Electronics And Communication</td>\n",
              "      <td>1</td>\n",
              "      <td>8</td>\n",
              "      <td>1</td>\n",
              "      <td>1</td>\n",
              "      <td>1</td>\n",
              "    </tr>\n",
              "    <tr>\n",
              "      <th>1</th>\n",
              "      <td>21</td>\n",
              "      <td>Female</td>\n",
              "      <td>Computer Science</td>\n",
              "      <td>0</td>\n",
              "      <td>7</td>\n",
              "      <td>1</td>\n",
              "      <td>1</td>\n",
              "      <td>1</td>\n",
              "    </tr>\n",
              "    <tr>\n",
              "      <th>2</th>\n",
              "      <td>22</td>\n",
              "      <td>Female</td>\n",
              "      <td>Information Technology</td>\n",
              "      <td>1</td>\n",
              "      <td>6</td>\n",
              "      <td>0</td>\n",
              "      <td>0</td>\n",
              "      <td>1</td>\n",
              "    </tr>\n",
              "    <tr>\n",
              "      <th>3</th>\n",
              "      <td>21</td>\n",
              "      <td>Male</td>\n",
              "      <td>Information Technology</td>\n",
              "      <td>0</td>\n",
              "      <td>8</td>\n",
              "      <td>0</td>\n",
              "      <td>1</td>\n",
              "      <td>1</td>\n",
              "    </tr>\n",
              "    <tr>\n",
              "      <th>4</th>\n",
              "      <td>22</td>\n",
              "      <td>Male</td>\n",
              "      <td>Mechanical</td>\n",
              "      <td>0</td>\n",
              "      <td>8</td>\n",
              "      <td>1</td>\n",
              "      <td>0</td>\n",
              "      <td>1</td>\n",
              "    </tr>\n",
              "  </tbody>\n",
              "</table>\n",
              "</div>\n",
              "      <button class=\"colab-df-convert\" onclick=\"convertToInteractive('df-75d7ff0d-88dd-4e0b-bd51-aad2f5aa8cac')\"\n",
              "              title=\"Convert this dataframe to an interactive table.\"\n",
              "              style=\"display:none;\">\n",
              "        \n",
              "  <svg xmlns=\"http://www.w3.org/2000/svg\" height=\"24px\"viewBox=\"0 0 24 24\"\n",
              "       width=\"24px\">\n",
              "    <path d=\"M0 0h24v24H0V0z\" fill=\"none\"/>\n",
              "    <path d=\"M18.56 5.44l.94 2.06.94-2.06 2.06-.94-2.06-.94-.94-2.06-.94 2.06-2.06.94zm-11 1L8.5 8.5l.94-2.06 2.06-.94-2.06-.94L8.5 2.5l-.94 2.06-2.06.94zm10 10l.94 2.06.94-2.06 2.06-.94-2.06-.94-.94-2.06-.94 2.06-2.06.94z\"/><path d=\"M17.41 7.96l-1.37-1.37c-.4-.4-.92-.59-1.43-.59-.52 0-1.04.2-1.43.59L10.3 9.45l-7.72 7.72c-.78.78-.78 2.05 0 2.83L4 21.41c.39.39.9.59 1.41.59.51 0 1.02-.2 1.41-.59l7.78-7.78 2.81-2.81c.8-.78.8-2.07 0-2.86zM5.41 20L4 18.59l7.72-7.72 1.47 1.35L5.41 20z\"/>\n",
              "  </svg>\n",
              "      </button>\n",
              "      \n",
              "  <style>\n",
              "    .colab-df-container {\n",
              "      display:flex;\n",
              "      flex-wrap:wrap;\n",
              "      gap: 12px;\n",
              "    }\n",
              "\n",
              "    .colab-df-convert {\n",
              "      background-color: #E8F0FE;\n",
              "      border: none;\n",
              "      border-radius: 50%;\n",
              "      cursor: pointer;\n",
              "      display: none;\n",
              "      fill: #1967D2;\n",
              "      height: 32px;\n",
              "      padding: 0 0 0 0;\n",
              "      width: 32px;\n",
              "    }\n",
              "\n",
              "    .colab-df-convert:hover {\n",
              "      background-color: #E2EBFA;\n",
              "      box-shadow: 0px 1px 2px rgba(60, 64, 67, 0.3), 0px 1px 3px 1px rgba(60, 64, 67, 0.15);\n",
              "      fill: #174EA6;\n",
              "    }\n",
              "\n",
              "    [theme=dark] .colab-df-convert {\n",
              "      background-color: #3B4455;\n",
              "      fill: #D2E3FC;\n",
              "    }\n",
              "\n",
              "    [theme=dark] .colab-df-convert:hover {\n",
              "      background-color: #434B5C;\n",
              "      box-shadow: 0px 1px 3px 1px rgba(0, 0, 0, 0.15);\n",
              "      filter: drop-shadow(0px 1px 2px rgba(0, 0, 0, 0.3));\n",
              "      fill: #FFFFFF;\n",
              "    }\n",
              "  </style>\n",
              "\n",
              "      <script>\n",
              "        const buttonEl =\n",
              "          document.querySelector('#df-75d7ff0d-88dd-4e0b-bd51-aad2f5aa8cac button.colab-df-convert');\n",
              "        buttonEl.style.display =\n",
              "          google.colab.kernel.accessAllowed ? 'block' : 'none';\n",
              "\n",
              "        async function convertToInteractive(key) {\n",
              "          const element = document.querySelector('#df-75d7ff0d-88dd-4e0b-bd51-aad2f5aa8cac');\n",
              "          const dataTable =\n",
              "            await google.colab.kernel.invokeFunction('convertToInteractive',\n",
              "                                                     [key], {});\n",
              "          if (!dataTable) return;\n",
              "\n",
              "          const docLinkHtml = 'Like what you see? Visit the ' +\n",
              "            '<a target=\"_blank\" href=https://colab.research.google.com/notebooks/data_table.ipynb>data table notebook</a>'\n",
              "            + ' to learn more about interactive tables.';\n",
              "          element.innerHTML = '';\n",
              "          dataTable['output_type'] = 'display_data';\n",
              "          await google.colab.output.renderOutput(dataTable, element);\n",
              "          const docLink = document.createElement('div');\n",
              "          docLink.innerHTML = docLinkHtml;\n",
              "          element.appendChild(docLink);\n",
              "        }\n",
              "      </script>\n",
              "    </div>\n",
              "  </div>\n",
              "  "
            ]
          },
          "metadata": {},
          "execution_count": 3
        }
      ],
      "source": [
        "df=pd.read_csv(r\"/content/collegePlace.csv\")\n",
        "df.head()"
      ]
    },
    {
      "cell_type": "markdown",
      "metadata": {
        "id": "EzrGbOgPSiFE"
      },
      "source": [
        "## Handling missing valuse"
      ]
    },
    {
      "cell_type": "code",
      "execution_count": 4,
      "metadata": {
        "colab": {
          "base_uri": "https://localhost:8080/"
        },
        "id": "DsVt7z339eNN",
        "outputId": "99357e49-17dc-458b-ec5f-3501bb370655"
      },
      "outputs": [
        {
          "output_type": "stream",
          "name": "stdout",
          "text": [
            "<class 'pandas.core.frame.DataFrame'>\n",
            "RangeIndex: 2966 entries, 0 to 2965\n",
            "Data columns (total 8 columns):\n",
            " #   Column             Non-Null Count  Dtype \n",
            "---  ------             --------------  ----- \n",
            " 0   Age                2966 non-null   int64 \n",
            " 1   Gender             2966 non-null   object\n",
            " 2   Stream             2966 non-null   object\n",
            " 3   Internships        2966 non-null   int64 \n",
            " 4   CGPA               2966 non-null   int64 \n",
            " 5   Hostel             2966 non-null   int64 \n",
            " 6   HistoryOfBacklogs  2966 non-null   int64 \n",
            " 7   PlacedOrNot        2966 non-null   int64 \n",
            "dtypes: int64(6), object(2)\n",
            "memory usage: 185.5+ KB\n"
          ]
        }
      ],
      "source": [
        "df.info()"
      ]
    },
    {
      "cell_type": "code",
      "execution_count": 5,
      "metadata": {
        "colab": {
          "base_uri": "https://localhost:8080/"
        },
        "id": "aV6E6wSk94Ej",
        "outputId": "de80c898-f91e-454a-ab02-79f1d0b586e1"
      },
      "outputs": [
        {
          "output_type": "execute_result",
          "data": {
            "text/plain": [
              "Age                  0\n",
              "Gender               0\n",
              "Stream               0\n",
              "Internships          0\n",
              "CGPA                 0\n",
              "Hostel               0\n",
              "HistoryOfBacklogs    0\n",
              "PlacedOrNot          0\n",
              "dtype: int64"
            ]
          },
          "metadata": {},
          "execution_count": 5
        }
      ],
      "source": [
        "df.isnull().sum()"
      ]
    },
    {
      "cell_type": "markdown",
      "metadata": {
        "id": "MYISFJXQS2VA"
      },
      "source": [
        "## handling outliner"
      ]
    },
    {
      "cell_type": "code",
      "execution_count": 6,
      "metadata": {
        "id": "grnIfX39uFxu"
      },
      "outputs": [],
      "source": [
        "def transformationplot(feature):\n",
        "    plt.figure(figsize=(12,5))\n",
        "    plt.subplot(1,2,1)\n",
        "    sns.distplot(feature)"
      ]
    },
    {
      "cell_type": "code",
      "execution_count": 7,
      "metadata": {
        "colab": {
          "base_uri": "https://localhost:8080/",
          "height": 465
        },
        "id": "pLv24665uHz7",
        "outputId": "71a09248-513c-42de-92dd-e9fd54556ad6"
      },
      "outputs": [
        {
          "output_type": "display_data",
          "data": {
            "text/plain": [
              "<Figure size 1200x500 with 1 Axes>"
            ],
            "image/png": "[encoded data removed]"
          },
          "metadata": {}
        }
      ],
      "source": [
        "transformationplot(np.log(df['Age']))"
      ]
    },
    {
      "cell_type": "markdown",
      "metadata": {
        "id": "pKMKrA9wTImY"
      },
      "source": [
        "## Handling categorical values"
      ]
    },
    {
      "cell_type": "code",
      "execution_count": 8,
      "metadata": {
        "id": "LAzg8xJiuXp5"
      },
      "outputs": [],
      "source": [
        "df=df.replace(['Male'],[0])\n",
        "df=df.replace(['Female'],[1])"
      ]
    },
    {
      "cell_type": "code",
      "execution_count": 9,
      "metadata": {
        "id": "sprnO9UFvvFe"
      },
      "outputs": [],
      "source": [
        "df=df.replace(['Electronics And Communication', 'Computer Science','Information Technology', 'Mechanical', 'Electrical', 'Civil'],[0,1,2,3,4,5])"
      ]
    },
    {
      "cell_type": "code",
      "execution_count": 10,
      "metadata": {
        "id": "OLRDEdQwu7Mv"
      },
      "outputs": [],
      "source": [
        "df=df.drop(['Hostel'],axis=1)"
      ]
    },
    {
      "cell_type": "code",
      "execution_count": 11,
      "metadata": {
        "colab": {
          "base_uri": "https://localhost:8080/",
          "height": 424
        },
        "id": "CkyP6iC8wpNJ",
        "outputId": "88bd842e-3117-4a32-b72a-f07c12bccd2a"
      },
      "outputs": [
        {
          "output_type": "execute_result",
          "data": {
            "text/plain": [
              "      Age  Gender  Stream  Internships  CGPA  HistoryOfBacklogs  PlacedOrNot\n",
              "0      22       0       0            1     8                  1            1\n",
              "1      21       1       1            0     7                  1            1\n",
              "2      22       1       2            1     6                  0            1\n",
              "3      21       0       2            0     8                  1            1\n",
              "4      22       0       3            0     8                  0            1\n",
              "...   ...     ...     ...          ...   ...                ...          ...\n",
              "2961   23       0       2            0     7                  0            0\n",
              "2962   23       0       3            1     7                  0            0\n",
              "2963   22       0       2            1     7                  0            0\n",
              "2964   22       0       1            1     7                  0            0\n",
              "2965   23       0       5            0     8                  0            1\n",
              "\n",
              "[2966 rows x 7 columns]"
            ],
            "text/html": [
              "\n",
              "  <div id=\"df-68a50d0e-852a-4ba8-9f0f-75ba5be4d1c8\">\n",
              "    <div class=\"colab-df-container\">\n",
              "      <div>\n",
              "<style scoped>\n",
              "    .dataframe tbody tr th:only-of-type {\n",
              "        vertical-align: middle;\n",
              "    }\n",
              "\n",
              "    .dataframe tbody tr th {\n",
              "        vertical-align: top;\n",
              "    }\n",
              "\n",
              "    .dataframe thead th {\n",
              "        text-align: right;\n",
              "    }\n",
              "</style>\n",
              "<table border=\"1\" class=\"dataframe\">\n",
              "  <thead>\n",
              "    <tr style=\"text-align: right;\">\n",
              "      <th></th>\n",
              "      <th>Age</th>\n",
              "      <th>Gender</th>\n",
              "      <th>Stream</th>\n",
              "      <th>Internships</th>\n",
              "      <th>CGPA</th>\n",
              "      <th>HistoryOfBacklogs</th>\n",
              "      <th>PlacedOrNot</th>\n",
              "    </tr>\n",
              "  </thead>\n",
              "  <tbody>\n",
              "    <tr>\n",
              "      <th>0</th>\n",
              "      <td>22</td>\n",
              "      <td>0</td>\n",
              "      <td>0</td>\n",
              "      <td>1</td>\n",
              "      <td>8</td>\n",
              "      <td>1</td>\n",
              "      <td>1</td>\n",
              "    </tr>\n",
              "    <tr>\n",
              "      <th>1</th>\n",
              "      <td>21</td>\n",
              "      <td>1</td>\n",
              "      <td>1</td>\n",
              "      <td>0</td>\n",
              "      <td>7</td>\n",
              "      <td>1</td>\n",
              "      <td>1</td>\n",
              "    </tr>\n",
              "    <tr>\n",
              "      <th>2</th>\n",
              "      <td>22</td>\n",
              "      <td>1</td>\n",
              "      <td>2</td>\n",
              "      <td>1</td>\n",
              "      <td>6</td>\n",
              "      <td>0</td>\n",
              "      <td>1</td>\n",
              "    </tr>\n",
              "    <tr>\n",
              "      <th>3</th>\n",
              "      <td>21</td>\n",
              "      <td>0</td>\n",
              "      <td>2</td>\n",
              "      <td>0</td>\n",
              "      <td>8</td>\n",
              "      <td>1</td>\n",
              "      <td>1</td>\n",
              "    </tr>\n",
              "    <tr>\n",
              "      <th>4</th>\n",
              "      <td>22</td>\n",
              "      <td>0</td>\n",
              "      <td>3</td>\n",
              "      <td>0</td>\n",
              "      <td>8</td>\n",
              "      <td>0</td>\n",
              "      <td>1</td>\n",
              "    </tr>\n",
              "    <tr>\n",
              "      <th>...</th>\n",
              "      <td>...</td>\n",
              "      <td>...</td>\n",
              "      <td>...</td>\n",
              "      <td>...</td>\n",
              "      <td>...</td>\n",
              "      <td>...</td>\n",
              "      <td>...</td>\n",
              "    </tr>\n",
              "    <tr>\n",
              "      <th>2961</th>\n",
              "      <td>23</td>\n",
              "      <td>0</td>\n",
              "      <td>2</td>\n",
              "      <td>0</td>\n",
              "      <td>7</td>\n",
              "      <td>0</td>\n",
              "      <td>0</td>\n",
              "    </tr>\n",
              "    <tr>\n",
              "      <th>2962</th>\n",
              "      <td>23</td>\n",
              "      <td>0</td>\n",
              "      <td>3</td>\n",
              "      <td>1</td>\n",
              "      <td>7</td>\n",
              "      <td>0</td>\n",
              "      <td>0</td>\n",
              "    </tr>\n",
              "    <tr>\n",
              "      <th>2963</th>\n",
              "      <td>22</td>\n",
              "      <td>0</td>\n",
              "      <td>2</td>\n",
              "      <td>1</td>\n",
              "      <td>7</td>\n",
              "      <td>0</td>\n",
              "      <td>0</td>\n",
              "    </tr>\n",
              "    <tr>\n",
              "      <th>2964</th>\n",
              "      <td>22</td>\n",
              "      <td>0</td>\n",
              "      <td>1</td>\n",
              "      <td>1</td>\n",
              "      <td>7</td>\n",
              "      <td>0</td>\n",
              "      <td>0</td>\n",
              "    </tr>\n",
              "    <tr>\n",
              "      <th>2965</th>\n",
              "      <td>23</td>\n",
              "      <td>0</td>\n",
              "      <td>5</td>\n",
              "      <td>0</td>\n",
              "      <td>8</td>\n",
              "      <td>0</td>\n",
              "      <td>1</td>\n",
              "    </tr>\n",
              "  </tbody>\n",
              "</table>\n",
              "<p>2966 rows × 7 columns</p>\n",
              "</div>\n",
              "      <button class=\"colab-df-convert\" onclick=\"convertToInteractive('df-68a50d0e-852a-4ba8-9f0f-75ba5be4d1c8')\"\n",
              "              title=\"Convert this dataframe to an interactive table.\"\n",
              "              style=\"display:none;\">\n",
              "        \n",
              "  <svg xmlns=\"http://www.w3.org/2000/svg\" height=\"24px\"viewBox=\"0 0 24 24\"\n",
              "       width=\"24px\">\n",
              "    <path d=\"M0 0h24v24H0V0z\" fill=\"none\"/>\n",
              "    <path d=\"M18.56 5.44l.94 2.06.94-2.06 2.06-.94-2.06-.94-.94-2.06-.94 2.06-2.06.94zm-11 1L8.5 8.5l.94-2.06 2.06-.94-2.06-.94L8.5 2.5l-.94 2.06-2.06.94zm10 10l.94 2.06.94-2.06 2.06-.94-2.06-.94-.94-2.06-.94 2.06-2.06.94z\"/><path d=\"M17.41 7.96l-1.37-1.37c-.4-.4-.92-.59-1.43-.59-.52 0-1.04.2-1.43.59L10.3 9.45l-7.72 7.72c-.78.78-.78 2.05 0 2.83L4 21.41c.39.39.9.59 1.41.59.51 0 1.02-.2 1.41-.59l7.78-7.78 2.81-2.81c.8-.78.8-2.07 0-2.86zM5.41 20L4 18.59l7.72-7.72 1.47 1.35L5.41 20z\"/>\n",
              "  </svg>\n",
              "      </button>\n",
              "      \n",
              "  <style>\n",
              "    .colab-df-container {\n",
              "      display:flex;\n",
              "      flex-wrap:wrap;\n",
              "      gap: 12px;\n",
              "    }\n",
              "\n",
              "    .colab-df-convert {\n",
              "      background-color: #E8F0FE;\n",
              "      border: none;\n",
              "      border-radius: 50%;\n",
              "      cursor: pointer;\n",
              "      display: none;\n",
              "      fill: #1967D2;\n",
              "      height: 32px;\n",
              "      padding: 0 0 0 0;\n",
              "      width: 32px;\n",
              "    }\n",
              "\n",
              "    .colab-df-convert:hover {\n",
              "      background-color: #E2EBFA;\n",
              "      box-shadow: 0px 1px 2px rgba(60, 64, 67, 0.3), 0px 1px 3px 1px rgba(60, 64, 67, 0.15);\n",
              "      fill: #174EA6;\n",
              "    }\n",
              "\n",
              "    [theme=dark] .colab-df-convert {\n",
              "      background-color: #3B4455;\n",
              "      fill: #D2E3FC;\n",
              "    }\n",
              "\n",
              "    [theme=dark] .colab-df-convert:hover {\n",
              "      background-color: #434B5C;\n",
              "      box-shadow: 0px 1px 3px 1px rgba(0, 0, 0, 0.15);\n",
              "      filter: drop-shadow(0px 1px 2px rgba(0, 0, 0, 0.3));\n",
              "      fill: #FFFFFF;\n",
              "    }\n",
              "  </style>\n",
              "\n",
              "      <script>\n",
              "        const buttonEl =\n",
              "          document.querySelector('#df-68a50d0e-852a-4ba8-9f0f-75ba5be4d1c8 button.colab-df-convert');\n",
              "        buttonEl.style.display =\n",
              "          google.colab.kernel.accessAllowed ? 'block' : 'none';\n",
              "\n",
              "        async function convertToInteractive(key) {\n",
              "          const element = document.querySelector('#df-68a50d0e-852a-4ba8-9f0f-75ba5be4d1c8');\n",
              "          const dataTable =\n",
              "            await google.colab.kernel.invokeFunction('convertToInteractive',\n",
              "                                                     [key], {});\n",
              "          if (!dataTable) return;\n",
              "\n",
              "          const docLinkHtml = 'Like what you see? Visit the ' +\n",
              "            '<a target=\"_blank\" href=https://colab.research.google.com/notebooks/data_table.ipynb>data table notebook</a>'\n",
              "            + ' to learn more about interactive tables.';\n",
              "          element.innerHTML = '';\n",
              "          dataTable['output_type'] = 'display_data';\n",
              "          await google.colab.output.renderOutput(dataTable, element);\n",
              "          const docLink = document.createElement('div');\n",
              "          docLink.innerHTML = docLinkHtml;\n",
              "          element.appendChild(docLink);\n",
              "        }\n",
              "      </script>\n",
              "    </div>\n",
              "  </div>\n",
              "  "
            ]
          },
          "metadata": {},
          "execution_count": 11
        }
      ],
      "source": [
        "df"
      ]
    },
    {
      "cell_type": "markdown",
      "metadata": {
        "id": "Vbj7fni-VAVr"
      },
      "source": [
        "## Univariate Analysis"
      ]
    },
    {
      "cell_type": "code",
      "execution_count": 12,
      "metadata": {
        "colab": {
          "base_uri": "https://localhost:8080/",
          "height": 482
        },
        "id": "ctMIUavIfsFm",
        "outputId": "ecfe0ad8-edbf-4f8c-be57-a02887a07ade"
      },
      "outputs": [
        {
          "output_type": "execute_result",
          "data": {
            "text/plain": [
              "<Axes: xlabel='CGPA', ylabel='Density'>"
            ]
          },
          "metadata": {},
          "execution_count": 12
        },
        {
          "output_type": "display_data",
          "data": {
            "text/plain": [
              "<Figure size 1200x500 with 1 Axes>"
            ],
            "image/png": "[encoded data removed]"
          },
          "metadata": {}
        }
      ],
      "source": [
        "plt.figure(figsize=(12,5))\n",
        "plt.subplot(121)\n",
        "sns.distplot(df['CGPA'],color='r')"
      ]
    },
    {
      "cell_type": "code",
      "execution_count": 13,
      "metadata": {
        "colab": {
          "base_uri": "https://localhost:8080/",
          "height": 482
        },
        "id": "dI5-0Lld-Zao",
        "outputId": "4e109ea3-6667-4501-ad18-15fcf6433c5a"
      },
      "outputs": [
        {
          "output_type": "execute_result",
          "data": {
            "text/plain": [
              "<Axes: xlabel='PlacedOrNot', ylabel='Density'>"
            ]
          },
          "metadata": {},
          "execution_count": 13
        },
        {
          "output_type": "display_data",
          "data": {
            "text/plain": [
              "<Figure size 1200x500 with 1 Axes>"
            ],
            "image/png": "[encoded data removed]"
          },
          "metadata": {}
        }
      ],
      "source": [
        "plt.figure(figsize=(12,5))\n",
        "plt.subplot(121)\n",
        "sns.distplot(df['PlacedOrNot'],color='r')"
      ]
    },
    {
      "cell_type": "markdown",
      "metadata": {
        "id": "X1TihgeeVksn"
      },
      "source": [
        "## Bivariate Analysis"
      ]
    },
    {
      "cell_type": "code",
      "execution_count": 14,
      "metadata": {
        "colab": {
          "base_uri": "https://localhost:8080/",
          "height": 408
        },
        "id": "seRiQt_AAt6M",
        "outputId": "e323df98-8eed-471c-adbc-f7401601c64c"
      },
      "outputs": [
        {
          "output_type": "execute_result",
          "data": {
            "text/plain": [
              "<function matplotlib.pyplot.show(close=None, block=None)>"
            ]
          },
          "metadata": {},
          "execution_count": 14
        },
        {
          "output_type": "display_data",
          "data": {
            "text/plain": [
              "<Figure size 1800x400 with 2 Axes>"
            ],
            "image/png": "[encoded data removed]"
          },
          "metadata": {}
        }
      ],
      "source": [
        "plt.figure(figsize=(18,4))\n",
        "plt.subplot(1,3,1)\n",
        "sns.countplot(df,x='Gender')\n",
        "plt.subplot(1,3,2)\n",
        "sns.countplot(df,x='HistoryOfBacklogs')\n",
        "plt.show"
      ]
    },
    {
      "cell_type": "markdown",
      "metadata": {
        "id": "USoIvVF2Wslf"
      },
      "source": [
        "## Multivariate Analysis"
      ]
    },
    {
      "cell_type": "code",
      "execution_count": 15,
      "metadata": {
        "colab": {
          "base_uri": "https://localhost:8080/",
          "height": 482
        },
        "id": "9Z2uTHaxvLlb",
        "outputId": "eb36ffd3-d42c-4036-fbbf-e9a140cc5f4d"
      },
      "outputs": [
        {
          "output_type": "execute_result",
          "data": {
            "text/plain": [
              "<Axes: xlabel='PlacedOrNot', ylabel='count'>"
            ]
          },
          "metadata": {},
          "execution_count": 15
        },
        {
          "output_type": "display_data",
          "data": {
            "text/plain": [
              "<Figure size 2000x500 with 1 Axes>"
            ],
            "image/png": "[encoded data removed]"
          },
          "metadata": {}
        }
      ],
      "source": [
        "plt.figure(figsize=(20,5))\n",
        "plt.subplot(131)\n",
        "sns.countplot(df,x='PlacedOrNot',hue=df['CGPA'])"
      ]
    },
    {
      "cell_type": "code",
      "execution_count": null,
      "metadata": {
        "colab": {
          "base_uri": "https://localhost:8080/",
          "height": 466
        },
        "id": "ecgHzcrpaPgF",
        "outputId": "6d243485-b5ae-49ea-da3c-cf43f4f3ef5e"
      },
      "outputs": [
        {
          "data": {
            "text/plain": [
              "<Axes: xlabel='PlacedOrNot', ylabel='CGPA'>"
            ]
          },
          "execution_count": 7,
          "metadata": {},
          "output_type": "execute_result"
        },
        {
          "data": {
            "image/png": "[encoded data removed]",
            "text/plain": [
              "<Figure size 640x480 with 1 Axes>"
            ]
          },
          "metadata": {},
          "output_type": "display_data"
        }
      ],
      "source": [
        "sns.swarmplot(data=df,x='PlacedOrNot',y='CGPA',hue='Stream')"
      ]
    },
    {
      "cell_type": "markdown",
      "metadata": {
        "id": "s2mM2wAwXTaD"
      },
      "source": [
        "## Splitting The Data Into Train And Test"
      ]
    },
    {
      "cell_type": "code",
      "execution_count": 16,
      "metadata": {
        "id": "So2QghgHpLcQ"
      },
      "outputs": [],
      "source": [
        "x=df.drop('PlacedOrNot',axis=1)\n",
        "y=df['PlacedOrNot']"
      ]
    },
    {
      "cell_type": "code",
      "execution_count": 17,
      "metadata": {
        "id": "rD_vOSwLqSJQ"
      },
      "outputs": [],
      "source": [
        "x_train,x_test,y_train,y_test=train_test_split(x,y,test_size=0.2,stratify=y,random_state=2)"
      ]
    },
    {
      "cell_type": "markdown",
      "metadata": {
        "id": "eDpAz7JcXjIH"
      },
      "source": [
        "## SVM Model"
      ]
    },
    {
      "cell_type": "code",
      "execution_count": 18,
      "metadata": {
        "id": "PRqgrb94rboR"
      },
      "outputs": [],
      "source": [
        "classifier=svm.SVC(kernel='linear')"
      ]
    },
    {
      "cell_type": "code",
      "execution_count": 19,
      "metadata": {
        "colab": {
          "base_uri": "https://localhost:8080/",
          "height": 75
        },
        "id": "RETWelNmskqR",
        "outputId": "80a15cfe-68ce-46f0-b06f-da6276bf43c0"
      },
      "outputs": [
        {
          "output_type": "execute_result",
          "data": {
            "text/plain": [
              "SVC(kernel='linear')"
            ],
            "text/html": [
              "<style>#sk-container-id-1 {color: black;background-color: white;}#sk-container-id-1 pre{padding: 0;}#sk-container-id-1 div.sk-toggleable {background-color: white;}#sk-container-id-1 label.sk-toggleable__label {cursor: pointer;display: block;width: 100%;margin-bottom: 0;padding: 0.3em;box-sizing: border-box;text-align: center;}#sk-container-id-1 label.sk-toggleable__label-arrow:before {content: \"▸\";float: left;margin-right: 0.25em;color: #696969;}#sk-container-id-1 label.sk-toggleable__label-arrow:hover:before {color: black;}#sk-container-id-1 div.sk-estimator:hover label.sk-toggleable__label-arrow:before {color: black;}#sk-container-id-1 div.sk-toggleable__content {max-height: 0;max-width: 0;overflow: hidden;text-align: left;background-color: #f0f8ff;}#sk-container-id-1 div.sk-toggleable__content pre {margin: 0.2em;color: black;border-radius: 0.25em;background-color: #f0f8ff;}#sk-container-id-1 input.sk-toggleable__control:checked~div.sk-toggleable__content {max-height: 200px;max-width: 100%;overflow: auto;}#sk-container-id-1 input.sk-toggleable__control:checked~label.sk-toggleable__label-arrow:before {content: \"▾\";}#sk-container-id-1 div.sk-estimator input.sk-toggleable__control:checked~label.sk-toggleable__label {background-color: #d4ebff;}#sk-container-id-1 div.sk-label input.sk-toggleable__control:checked~label.sk-toggleable__label {background-color: #d4ebff;}#sk-container-id-1 input.sk-hidden--visually {border: 0;clip: rect(1px 1px 1px 1px);clip: rect(1px, 1px, 1px, 1px);height: 1px;margin: -1px;overflow: hidden;padding: 0;position: absolute;width: 1px;}#sk-container-id-1 div.sk-estimator {font-family: monospace;background-color: #f0f8ff;border: 1px dotted black;border-radius: 0.25em;box-sizing: border-box;margin-bottom: 0.5em;}#sk-container-id-1 div.sk-estimator:hover {background-color: #d4ebff;}#sk-container-id-1 div.sk-parallel-item::after {content: \"\";width: 100%;border-bottom: 1px solid gray;flex-grow: 1;}#sk-container-id-1 div.sk-label:hover label.sk-toggleable__label {background-color: #d4ebff;}#sk-container-id-1 div.sk-serial::before {content: \"\";position: absolute;border-left: 1px solid gray;box-sizing: border-box;top: 0;bottom: 0;left: 50%;z-index: 0;}#sk-container-id-1 div.sk-serial {display: flex;flex-direction: column;align-items: center;background-color: white;padding-right: 0.2em;padding-left: 0.2em;position: relative;}#sk-container-id-1 div.sk-item {position: relative;z-index: 1;}#sk-container-id-1 div.sk-parallel {display: flex;align-items: stretch;justify-content: center;background-color: white;position: relative;}#sk-container-id-1 div.sk-item::before, #sk-container-id-1 div.sk-parallel-item::before {content: \"\";position: absolute;border-left: 1px solid gray;box-sizing: border-box;top: 0;bottom: 0;left: 50%;z-index: -1;}#sk-container-id-1 div.sk-parallel-item {display: flex;flex-direction: column;z-index: 1;position: relative;background-color: white;}#sk-container-id-1 div.sk-parallel-item:first-child::after {align-self: flex-end;width: 50%;}#sk-container-id-1 div.sk-parallel-item:last-child::after {align-self: flex-start;width: 50%;}#sk-container-id-1 div.sk-parallel-item:only-child::after {width: 0;}#sk-container-id-1 div.sk-dashed-wrapped {border: 1px dashed gray;margin: 0 0.4em 0.5em 0.4em;box-sizing: border-box;padding-bottom: 0.4em;background-color: white;}#sk-container-id-1 div.sk-label label {font-family: monospace;font-weight: bold;display: inline-block;line-height: 1.2em;}#sk-container-id-1 div.sk-label-container {text-align: center;}#sk-container-id-1 div.sk-container {/* jupyter's `normalize.less` sets `[hidden] { display: none; }` but bootstrap.min.css set `[hidden] { display: none !important; }` so we also need the `!important` here to be able to override the default hidden behavior on the sphinx rendered scikit-learn.org. See: https://github.com/scikit-learn/scikit-learn/issues/21755 */display: inline-block !important;position: relative;}#sk-container-id-1 div.sk-text-repr-fallback {display: none;}</style><div id=\"sk-container-id-1\" class=\"sk-top-container\"><div class=\"sk-text-repr-fallback\"><pre>SVC(kernel=&#x27;linear&#x27;)</pre><b>In a Jupyter environment, please rerun this cell to show the HTML representation or trust the notebook. <br />On GitHub, the HTML representation is unable to render, please try loading this page with nbviewer.org.</b></div><div class=\"sk-container\" hidden><div class=\"sk-item\"><div class=\"sk-estimator sk-toggleable\"><input class=\"sk-toggleable__control sk-hidden--visually\" id=\"sk-estimator-id-1\" type=\"checkbox\" checked><label for=\"sk-estimator-id-1\" class=\"sk-toggleable__label sk-toggleable__label-arrow\">SVC</label><div class=\"sk-toggleable__content\"><pre>SVC(kernel=&#x27;linear&#x27;)</pre></div></div></div></div></div>"
            ]
          },
          "metadata": {},
          "execution_count": 19
        }
      ],
      "source": [
        "classifier.fit(x_train,y_train)"
      ]
    },
    {
      "cell_type": "code",
      "execution_count": 20,
      "metadata": {
        "id": "uGsuvLnSss_r"
      },
      "outputs": [],
      "source": [
        "x_train_prediction=classifier.predict(x_train)\n",
        "traning_df_accuracy=accuracy_score(x_train_prediction,y_train)"
      ]
    },
    {
      "cell_type": "code",
      "execution_count": 21,
      "metadata": {
        "colab": {
          "base_uri": "https://localhost:8080/"
        },
        "id": "zjK-v4Q5vavJ",
        "outputId": "a6afb273-3e40-47d4-8080-212e06641784"
      },
      "outputs": [
        {
          "output_type": "stream",
          "name": "stdout",
          "text": [
            "accuracy score of training data: 0.769814502529511\n"
          ]
        }
      ],
      "source": [
        "print('accuracy score of training data:',traning_df_accuracy)"
      ]
    },
    {
      "cell_type": "markdown",
      "metadata": {
        "id": "tbLHsw8wYaw2"
      },
      "source": [
        "## KNN Model"
      ]
    },
    {
      "cell_type": "code",
      "execution_count": 22,
      "metadata": {
        "id": "sDiJaoEJwDN5"
      },
      "outputs": [],
      "source": [
        "best_k={\"Regular\":0}\n",
        "best_score={\"Regular\":0}\n",
        "for k in range(3,50,2):\n",
        "  knn_temp=KNeighborsClassifier(n_neighbors=k)\n",
        "  knn_temp.fit(x_train,y_train)\n",
        "  knn_temp_pred=knn_temp.predict(x_test)\n",
        "  score=metrics.accuracy_score(y_test,knn_temp_pred)*100\n",
        "  if score>=best_score[\"Regular\"]and score<100:\n",
        "    best_score[\"Regular\"]=score\n",
        "    best_k[\"Regular\"]=k"
      ]
    },
    {
      "cell_type": "code",
      "execution_count": 23,
      "metadata": {
        "colab": {
          "base_uri": "https://localhost:8080/"
        },
        "id": "4qnGLsazwSl5",
        "outputId": "08f79997-cd62-4615-bc90-89e8ca0c412b"
      },
      "outputs": [
        {
          "output_type": "stream",
          "name": "stdout",
          "text": [
            "---results---\n",
            "K:{'Regular': 21}\n",
            "Score:{'Regular': 88.38383838383838}\n"
          ]
        }
      ],
      "source": [
        "print(\"---results---\\nK:{}\\nScore:{}\".format(best_k,best_score))\n",
        "knn=KNeighborsClassifier(n_neighbors=best_k[\"Regular\"])\n",
        "knn.fit(x_train,y_train)\n",
        "knn_pred=knn.predict(x_test)\n",
        "testd=accuracy_score(knn_pred,y_test)"
      ]
    },
    {
      "cell_type": "markdown",
      "metadata": {
        "id": "mxJpxfBbYgUu"
      },
      "source": [
        "## Artificial Neural Network Model"
      ]
    },
    {
      "cell_type": "code",
      "execution_count": 24,
      "metadata": {
        "id": "ojXf1R5D1HW7"
      },
      "outputs": [],
      "source": [
        "import tensorflow as tf\n",
        "from tensorflow import keras\n",
        "from keras.models import Sequential\n",
        "from tensorflow.keras import layers"
      ]
    },
    {
      "cell_type": "code",
      "execution_count": 25,
      "metadata": {
        "id": "HAmAHwQG1x1p"
      },
      "outputs": [],
      "source": [
        "classifier = Sequential()\n",
        "# input & 1st hidden layer  \n",
        "classifier.add(keras.layers.Dense(6,activation='relu',input_dim=7))\n",
        "classifier.add(keras.layers.Dropout(0.50))\n",
        "# 2nd hidden layer\n",
        "classifier.add(keras.layers.Dense(6,activation='relu'))\n",
        "classifier.add(keras.layers.Dropout(0.50))\n",
        "# output layer\n",
        "classifier.add(keras.layers.Dense(1,activation='sigmoid')) "
      ]
    },
    {
      "cell_type": "code",
      "execution_count": 26,
      "metadata": {
        "id": "5rlf354x44ds"
      },
      "outputs": [],
      "source": [
        "#compiling model\n",
        "loss_1=tf.keras.losses.BinaryCrossentropy()\n",
        "classifier.compile(optimizer='Adam',loss=loss_1,metrics=['accuracy'])"
      ]
    },
    {
      "cell_type": "code",
      "execution_count": 27,
      "metadata": {
        "colab": {
          "base_uri": "https://localhost:8080/"
        },
        "id": "brPWFsDI7xH4",
        "outputId": "49069eb5-18c7-40a7-86f4-89a737341c9b"
      },
      "outputs": [
        {
          "output_type": "execute_result",
          "data": {
            "text/plain": [
              "(2372, 6)"
            ]
          },
          "metadata": {},
          "execution_count": 27
        }
      ],
      "source": [
        "x_train.shape"
      ]
    },
    {
      "cell_type": "code",
      "execution_count": null,
      "metadata": {
        "colab": {
          "base_uri": "https://localhost:8080/"
        },
        "id": "jPGN05Eh6HL5",
        "outputId": "e98c6281-9064-424c-ede0-8c3e6ff8edca"
      },
      "outputs": [
        {
          "name": "stdout",
          "output_type": "stream",
          "text": [
            "Epoch 1/100\n",
            "119/119 [==============================] - 2s 2ms/step - loss: 3.5371 - accuracy: 0.4945\n",
            "Epoch 2/100\n",
            "119/119 [==============================] - 0s 2ms/step - loss: 1.7741 - accuracy: 0.5341\n",
            "Epoch 3/100\n",
            "119/119 [==============================] - 0s 2ms/step - loss: 1.2300 - accuracy: 0.5097\n",
            "Epoch 4/100\n",
            "119/119 [==============================] - 0s 2ms/step - loss: 0.9497 - accuracy: 0.5249\n",
            "Epoch 5/100\n",
            "119/119 [==============================] - 0s 2ms/step - loss: 0.8268 - accuracy: 0.5354\n",
            "Epoch 6/100\n",
            "119/119 [==============================] - 0s 2ms/step - loss: 0.7736 - accuracy: 0.5266\n",
            "Epoch 7/100\n",
            "119/119 [==============================] - 0s 2ms/step - loss: 0.7440 - accuracy: 0.5282\n",
            "Epoch 8/100\n",
            "119/119 [==============================] - 0s 2ms/step - loss: 0.7229 - accuracy: 0.5409\n",
            "Epoch 9/100\n",
            "119/119 [==============================] - 0s 2ms/step - loss: 0.7152 - accuracy: 0.5468\n",
            "Epoch 10/100\n",
            "119/119 [==============================] - 0s 2ms/step - loss: 0.7027 - accuracy: 0.5422\n",
            "Epoch 11/100\n",
            "119/119 [==============================] - 0s 2ms/step - loss: 0.6990 - accuracy: 0.5468\n",
            "Epoch 12/100\n",
            "119/119 [==============================] - 0s 2ms/step - loss: 0.6954 - accuracy: 0.5476\n",
            "Epoch 13/100\n",
            "119/119 [==============================] - 0s 2ms/step - loss: 0.6952 - accuracy: 0.5489\n",
            "Epoch 14/100\n",
            "119/119 [==============================] - 0s 2ms/step - loss: 0.6946 - accuracy: 0.5409\n",
            "Epoch 15/100\n",
            "119/119 [==============================] - 0s 3ms/step - loss: 0.6900 - accuracy: 0.5565\n",
            "Epoch 16/100\n",
            "119/119 [==============================] - 0s 3ms/step - loss: 0.6909 - accuracy: 0.5481\n",
            "Epoch 17/100\n",
            "119/119 [==============================] - 0s 3ms/step - loss: 0.6878 - accuracy: 0.5493\n",
            "Epoch 18/100\n",
            "119/119 [==============================] - 0s 3ms/step - loss: 0.6903 - accuracy: 0.5422\n",
            "Epoch 19/100\n",
            "119/119 [==============================] - 0s 2ms/step - loss: 0.6875 - accuracy: 0.5430\n",
            "Epoch 20/100\n",
            "119/119 [==============================] - 0s 2ms/step - loss: 0.6860 - accuracy: 0.5523\n",
            "Epoch 21/100\n",
            "119/119 [==============================] - 0s 2ms/step - loss: 0.6827 - accuracy: 0.5497\n",
            "Epoch 22/100\n",
            "119/119 [==============================] - 0s 3ms/step - loss: 0.6811 - accuracy: 0.5535\n",
            "Epoch 23/100\n",
            "119/119 [==============================] - 0s 2ms/step - loss: 0.6691 - accuracy: 0.5683\n",
            "Epoch 24/100\n",
            "119/119 [==============================] - 0s 2ms/step - loss: 0.6730 - accuracy: 0.5599\n",
            "Epoch 25/100\n",
            "119/119 [==============================] - 0s 2ms/step - loss: 0.6656 - accuracy: 0.5755\n",
            "Epoch 26/100\n",
            "119/119 [==============================] - 0s 2ms/step - loss: 0.6639 - accuracy: 0.5717\n",
            "Epoch 27/100\n",
            "119/119 [==============================] - 0s 2ms/step - loss: 0.6578 - accuracy: 0.5696\n",
            "Epoch 28/100\n",
            "119/119 [==============================] - 0s 2ms/step - loss: 0.6530 - accuracy: 0.5746\n",
            "Epoch 29/100\n",
            "119/119 [==============================] - 0s 2ms/step - loss: 0.6536 - accuracy: 0.5742\n",
            "Epoch 30/100\n",
            "119/119 [==============================] - 0s 2ms/step - loss: 0.6444 - accuracy: 0.5742\n",
            "Epoch 31/100\n",
            "119/119 [==============================] - 0s 2ms/step - loss: 0.6370 - accuracy: 0.5717\n",
            "Epoch 32/100\n",
            "119/119 [==============================] - 0s 2ms/step - loss: 0.6332 - accuracy: 0.5805\n",
            "Epoch 33/100\n",
            "119/119 [==============================] - 0s 2ms/step - loss: 0.6336 - accuracy: 0.5831\n",
            "Epoch 34/100\n",
            "119/119 [==============================] - 0s 2ms/step - loss: 0.6224 - accuracy: 0.5911\n",
            "Epoch 35/100\n",
            "119/119 [==============================] - 0s 2ms/step - loss: 0.6201 - accuracy: 0.6075\n",
            "Epoch 36/100\n",
            "119/119 [==============================] - 0s 2ms/step - loss: 0.6153 - accuracy: 0.5902\n",
            "Epoch 37/100\n",
            "119/119 [==============================] - 0s 2ms/step - loss: 0.6118 - accuracy: 0.6062\n",
            "Epoch 38/100\n",
            "119/119 [==============================] - 0s 2ms/step - loss: 0.6144 - accuracy: 0.6092\n",
            "Epoch 39/100\n",
            "119/119 [==============================] - 0s 2ms/step - loss: 0.6099 - accuracy: 0.6058\n",
            "Epoch 40/100\n",
            "119/119 [==============================] - 0s 2ms/step - loss: 0.6079 - accuracy: 0.6033\n",
            "Epoch 41/100\n",
            "119/119 [==============================] - 0s 2ms/step - loss: 0.6077 - accuracy: 0.5953\n",
            "Epoch 42/100\n",
            "119/119 [==============================] - 0s 2ms/step - loss: 0.6077 - accuracy: 0.6096\n",
            "Epoch 43/100\n",
            "119/119 [==============================] - 0s 2ms/step - loss: 0.6019 - accuracy: 0.6088\n",
            "Epoch 44/100\n",
            "119/119 [==============================] - 0s 2ms/step - loss: 0.6071 - accuracy: 0.6058\n",
            "Epoch 45/100\n",
            "119/119 [==============================] - 0s 2ms/step - loss: 0.6043 - accuracy: 0.6130\n",
            "Epoch 46/100\n",
            "119/119 [==============================] - 0s 2ms/step - loss: 0.6009 - accuracy: 0.6189\n",
            "Epoch 47/100\n",
            "119/119 [==============================] - 0s 2ms/step - loss: 0.5950 - accuracy: 0.6168\n",
            "Epoch 48/100\n",
            "119/119 [==============================] - 0s 2ms/step - loss: 0.6009 - accuracy: 0.5961\n",
            "Epoch 49/100\n",
            "119/119 [==============================] - 0s 2ms/step - loss: 0.6037 - accuracy: 0.5898\n",
            "Epoch 50/100\n",
            "119/119 [==============================] - 0s 2ms/step - loss: 0.5863 - accuracy: 0.6218\n",
            "Epoch 51/100\n",
            "119/119 [==============================] - 0s 2ms/step - loss: 0.5949 - accuracy: 0.6096\n",
            "Epoch 52/100\n",
            "119/119 [==============================] - 0s 2ms/step - loss: 0.5841 - accuracy: 0.6218\n",
            "Epoch 53/100\n",
            "119/119 [==============================] - 0s 2ms/step - loss: 0.5888 - accuracy: 0.6138\n",
            "Epoch 54/100\n",
            "119/119 [==============================] - 0s 2ms/step - loss: 0.5848 - accuracy: 0.6261\n",
            "Epoch 55/100\n",
            "119/119 [==============================] - 0s 2ms/step - loss: 0.5843 - accuracy: 0.6142\n",
            "Epoch 56/100\n",
            "119/119 [==============================] - 0s 2ms/step - loss: 0.5928 - accuracy: 0.6109\n",
            "Epoch 57/100\n",
            "119/119 [==============================] - 0s 2ms/step - loss: 0.5900 - accuracy: 0.6134\n",
            "Epoch 58/100\n",
            "119/119 [==============================] - 0s 2ms/step - loss: 0.5975 - accuracy: 0.6180\n",
            "Epoch 59/100\n",
            "119/119 [==============================] - 0s 2ms/step - loss: 0.5843 - accuracy: 0.6185\n",
            "Epoch 60/100\n",
            "119/119 [==============================] - 0s 2ms/step - loss: 0.5911 - accuracy: 0.6256\n",
            "Epoch 61/100\n",
            "119/119 [==============================] - 0s 2ms/step - loss: 0.5892 - accuracy: 0.6362\n",
            "Epoch 62/100\n",
            "119/119 [==============================] - 0s 2ms/step - loss: 0.5789 - accuracy: 0.6374\n",
            "Epoch 63/100\n",
            "119/119 [==============================] - 0s 2ms/step - loss: 0.5749 - accuracy: 0.6374\n",
            "Epoch 64/100\n",
            "119/119 [==============================] - 0s 2ms/step - loss: 0.5780 - accuracy: 0.6265\n",
            "Epoch 65/100\n",
            "119/119 [==============================] - 0s 2ms/step - loss: 0.5818 - accuracy: 0.6336\n",
            "Epoch 66/100\n",
            "119/119 [==============================] - 0s 2ms/step - loss: 0.5744 - accuracy: 0.6383\n",
            "Epoch 67/100\n",
            "119/119 [==============================] - 0s 2ms/step - loss: 0.5709 - accuracy: 0.6395\n",
            "Epoch 68/100\n",
            "119/119 [==============================] - 0s 2ms/step - loss: 0.5843 - accuracy: 0.6282\n",
            "Epoch 69/100\n",
            "119/119 [==============================] - 0s 3ms/step - loss: 0.5703 - accuracy: 0.6450\n",
            "Epoch 70/100\n",
            "119/119 [==============================] - 0s 3ms/step - loss: 0.5728 - accuracy: 0.6442\n",
            "Epoch 71/100\n",
            "119/119 [==============================] - 0s 3ms/step - loss: 0.5699 - accuracy: 0.6349\n",
            "Epoch 72/100\n",
            "119/119 [==============================] - 0s 3ms/step - loss: 0.5637 - accuracy: 0.6425\n",
            "Epoch 73/100\n",
            "119/119 [==============================] - 0s 3ms/step - loss: 0.5528 - accuracy: 0.6450\n",
            "Epoch 74/100\n",
            "119/119 [==============================] - 0s 3ms/step - loss: 0.5662 - accuracy: 0.6522\n",
            "Epoch 75/100\n",
            "119/119 [==============================] - 0s 3ms/step - loss: 0.5732 - accuracy: 0.6408\n",
            "Epoch 76/100\n",
            "119/119 [==============================] - 0s 3ms/step - loss: 0.5708 - accuracy: 0.6353\n",
            "Epoch 77/100\n",
            "119/119 [==============================] - 0s 2ms/step - loss: 0.5638 - accuracy: 0.6358\n",
            "Epoch 78/100\n",
            "119/119 [==============================] - 0s 2ms/step - loss: 0.5571 - accuracy: 0.6539\n",
            "Epoch 79/100\n",
            "119/119 [==============================] - 0s 2ms/step - loss: 0.5598 - accuracy: 0.6518\n",
            "Epoch 80/100\n",
            "119/119 [==============================] - 0s 2ms/step - loss: 0.5617 - accuracy: 0.6463\n",
            "Epoch 81/100\n",
            "119/119 [==============================] - 0s 2ms/step - loss: 0.5604 - accuracy: 0.6480\n",
            "Epoch 82/100\n",
            "119/119 [==============================] - 0s 2ms/step - loss: 0.5796 - accuracy: 0.6345\n",
            "Epoch 83/100\n",
            "119/119 [==============================] - 0s 2ms/step - loss: 0.5600 - accuracy: 0.6488\n",
            "Epoch 84/100\n",
            "119/119 [==============================] - 0s 2ms/step - loss: 0.5592 - accuracy: 0.6471\n",
            "Epoch 85/100\n",
            "119/119 [==============================] - 0s 2ms/step - loss: 0.5690 - accuracy: 0.6320\n",
            "Epoch 86/100\n",
            "119/119 [==============================] - 0s 2ms/step - loss: 0.5572 - accuracy: 0.6551\n",
            "Epoch 87/100\n",
            "119/119 [==============================] - 0s 2ms/step - loss: 0.5640 - accuracy: 0.6442\n",
            "Epoch 88/100\n",
            "119/119 [==============================] - 0s 2ms/step - loss: 0.5517 - accuracy: 0.6560\n",
            "Epoch 89/100\n",
            "119/119 [==============================] - 0s 2ms/step - loss: 0.5598 - accuracy: 0.6425\n",
            "Epoch 90/100\n",
            "119/119 [==============================] - 0s 2ms/step - loss: 0.5595 - accuracy: 0.6518\n",
            "Epoch 91/100\n",
            "119/119 [==============================] - 0s 2ms/step - loss: 0.5583 - accuracy: 0.6551\n",
            "Epoch 92/100\n",
            "119/119 [==============================] - 0s 2ms/step - loss: 0.5622 - accuracy: 0.6476\n",
            "Epoch 93/100\n",
            "119/119 [==============================] - 0s 2ms/step - loss: 0.5627 - accuracy: 0.6395\n",
            "Epoch 94/100\n",
            "119/119 [==============================] - 0s 2ms/step - loss: 0.5607 - accuracy: 0.6476\n",
            "Epoch 95/100\n",
            "119/119 [==============================] - 0s 2ms/step - loss: 0.5660 - accuracy: 0.6454\n",
            "Epoch 96/100\n",
            "119/119 [==============================] - 0s 2ms/step - loss: 0.5508 - accuracy: 0.6543\n",
            "Epoch 97/100\n",
            "119/119 [==============================] - 0s 2ms/step - loss: 0.5606 - accuracy: 0.6492\n",
            "Epoch 98/100\n",
            "119/119 [==============================] - 0s 2ms/step - loss: 0.5520 - accuracy: 0.6543\n",
            "Epoch 99/100\n",
            "119/119 [==============================] - 0s 2ms/step - loss: 0.5567 - accuracy: 0.6421\n",
            "Epoch 100/100\n",
            "119/119 [==============================] - 0s 2ms/step - loss: 0.5508 - accuracy: 0.6560\n"
          ]
        },
        {
          "data": {
            "text/plain": [
              "<keras.callbacks.History at 0x7fba8435b760>"
            ]
          },
          "execution_count": 74,
          "metadata": {},
          "output_type": "execute_result"
        }
      ],
      "source": [
        "#fitting model\n",
        "classifier.fit(x_train,y_train,batch_size=20,epochs=100)"
      ]
    },
    {
      "cell_type": "markdown",
      "metadata": {
        "id": "lJhBXwqgZ4tc"
      },
      "source": [
        "## Save The Best Model\n"
      ]
    },
    {
      "cell_type": "code",
      "execution_count": 28,
      "metadata": {
        "id": "8XvdvbsM9Meb"
      },
      "outputs": [],
      "source": [
        "import pickle\n",
        "pickle.dump(knn,open(\"placement.plk\",'wb'))\n",
        "model=pickle.load(open(\"placement.plk\",'rb'))"
      ]
    }
  ],
  "metadata": {
    "colab": {
      "provenance": []
    },
    "gpuClass": "standard",
    "kernelspec": {
      "display_name": "Python 3",
      "name": "python3"
    },
    "language_info": {
      "name": "python"
    }
  },
  "nbformat": 4,
  "nbformat_minor": 0
}